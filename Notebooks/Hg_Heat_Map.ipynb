{
 "cells": [
  {
   "cell_type": "markdown",
   "metadata": {},
   "source": [
    "## `Follow along in this notebook to see the creation process of Figure 2: Hg Comparison`"
   ]
  },
  {
   "cell_type": "markdown",
   "metadata": {},
   "source": [
    "### `We will first import any packages needed`"
   ]
  },
  {
   "cell_type": "code",
   "execution_count": 90,
   "metadata": {},
   "outputs": [],
   "source": [
    "import pandas as pd \n",
    "import numpy as np\n",
    "import matplotlib\n",
    "import matplotlib.pyplot as plt\n",
    "from matplotlib.patches import Rectangle\n"
   ]
  },
  {
   "cell_type": "markdown",
   "metadata": {},
   "source": [
    "### `We will now reuse some matplotlib code for heatmap creation`\n",
    "\n",
    "$ \\textit{resource} \\rightarrow$ https://matplotlib.org/stable/gallery/images_contours_and_fields/image_annotated_heatmap.html#sphx-glr-gallery-images-contours-and-fields-image-annotated-heatmap-py "
   ]
  },
  {
   "cell_type": "code",
   "execution_count": 91,
   "metadata": {},
   "outputs": [],
   "source": [
    "def heatmap(data, row_labels, col_labels, ax=None, cbar_kw={}, cbarlabel=\"\", **kwargs):\n",
    "    \"\"\"\n",
    "    Create a heatmap from a numpy array and two lists of labels.\n",
    "\n",
    "    Parameters\n",
    "    ----------\n",
    "    data\n",
    "        A 2D numpy array of shape (M, N).\n",
    "    row_labels\n",
    "        A list or array of length M with the labels for the rows.\n",
    "    col_labels\n",
    "        A list or array of length N with the labels for the columns.\n",
    "    ax\n",
    "        A `matplotlib.axes.Axes` instance to which the heatmap is plotted.  If\n",
    "        not provided, use current axes or create a new one.  Optional.\n",
    "    cbar_kw\n",
    "        A dictionary with arguments to `matplotlib.Figure.colorbar`.  Optional.\n",
    "    cbarlabel\n",
    "        The label for the colorbar.  Optional.\n",
    "    **kwargs\n",
    "        All other arguments are forwarded to `imshow`.\n",
    "    \"\"\"\n",
    "\n",
    "    if not ax:\n",
    "        ax = plt.gca()\n",
    "\n",
    "    # Plot the heatmap\n",
    "    im = ax.imshow(data, alpha=0.9, **kwargs)\n",
    "\n",
    "    # # Create colorbar\n",
    "    cbar = ax.figure.colorbar(im, ax=ax, **cbar_kw)\n",
    "    cbar.ax.set_ylabel(cbarlabel, rotation=-90, va=\"bottom\")\n",
    "\n",
    "    # Show all ticks and label them with the respective list entries.\n",
    "    ax.set_xticks(np.arange(data.shape[1]), labels=col_labels)\n",
    "    ax.set_yticks(np.arange(data.shape[0]), labels=row_labels)\n",
    "\n",
    "    # Let the horizontal axes labeling appear on top.\n",
    "    # ax.tick_params(top=True, bottom=False, labeltop=True, labelbottom=False)\n",
    "\n",
    "    # Rotate the tick labels and set their alignment.\n",
    "    plt.setp(ax.get_xticklabels(), rotation=35, ha=\"right\", rotation_mode=\"default\")\n",
    "\n",
    "    # Turn spines off and create white grid.\n",
    "    # ax.spines[:].set_visible(False)\n",
    "\n",
    "    ax.set_xticks(np.arange(data.shape[1] + 1) - 0.5, minor=True)\n",
    "    ax.set_yticks(np.arange(data.shape[0] + 1) - 0.5, minor=True)\n",
    "    ax.grid(which=\"minor\", color=\"white\", linewidth=5)\n",
    "    ax.tick_params(which=\"minor\", bottom=False, left=False)\n",
    "\n",
    "    return im, cbar\n",
    "\n",
    "def annotate_heatmap(\n",
    "    im,\n",
    "    data=None,\n",
    "    valfmt=\"{x:.2f}\",\n",
    "    textcolors=(\"black\", \"white\"),\n",
    "    threshold=None,\n",
    "    **textkw\n",
    "):\n",
    "    \"\"\"\n",
    "    A function to annotate a heatmap.\n",
    "\n",
    "    Parameters\n",
    "    ----------\n",
    "    im\n",
    "        The AxesImage to be labeled.\n",
    "    data\n",
    "        Data used to annotate.  If None, the image's data is used.  Optional.\n",
    "    valfmt\n",
    "        The format of the annotations inside the heatmap.  This should either\n",
    "        use the string format method, e.g. \"$ {x:.2f}\", or be a\n",
    "        `matplotlib.ticker.Formatter`.  Optional.\n",
    "    textcolors\n",
    "        A pair of colors.  The first is used for values below a threshold,\n",
    "        the second for those above.  Optional.\n",
    "    threshold\n",
    "        Value in data units according to which the colors from textcolors are\n",
    "        applied.  If None (the default) uses the middle of the colormap as\n",
    "        separation.  Optional.\n",
    "    **kwargs\n",
    "        All other arguments are forwarded to each call to `text` used to create\n",
    "        the text labels.\n",
    "    \"\"\"\n",
    "\n",
    "    if not isinstance(data, (list, np.ndarray)):\n",
    "        data = im.get_array()\n",
    "\n",
    "    # Normalize the threshold to the images color range.\n",
    "    if threshold is not None:\n",
    "        threshold = im.norm(threshold)\n",
    "    else:\n",
    "        threshold = im.norm(data.max()) / 2.0\n",
    "\n",
    "    # Set default alignment to center, but allow it to be\n",
    "    # overwritten by textkw.\n",
    "    kw = dict(horizontalalignment=\"center\", verticalalignment=\"center\")\n",
    "    kw.update(textkw)\n",
    "\n",
    "    # Get the formatter in case a string is supplied\n",
    "    if isinstance(valfmt, str):\n",
    "        valfmt = matplotlib.ticker.StrMethodFormatter(valfmt)\n",
    "\n",
    "    # Loop over the data and create a `Text` for each \"pixel\".\n",
    "    # Change the text's color depending on the data.\n",
    "    texts = []\n",
    "    for i in range(data.shape[0]):\n",
    "        for j in range(data.shape[1]):\n",
    "            kw.update(color=textcolors[int(im.norm(data[i, j]) > threshold)])\n",
    "            text = im.axes.text(j, i, r\"$\\mathbf{\" + valfmt(data[i, j], None) + r\"}$\", **kw)\n",
    "            texts.append(text)\n",
    "\n",
    "    return texts"
   ]
  },
  {
   "cell_type": "markdown",
   "metadata": {},
   "source": [
    "## `At this point we can load in the data of intrest`"
   ]
  },
  {
   "cell_type": "code",
   "execution_count": 92,
   "metadata": {},
   "outputs": [
    {
     "data": {
      "text/html": [
       "<div>\n",
       "<style scoped>\n",
       "    .dataframe tbody tr th:only-of-type {\n",
       "        vertical-align: middle;\n",
       "    }\n",
       "\n",
       "    .dataframe tbody tr th {\n",
       "        vertical-align: top;\n",
       "    }\n",
       "\n",
       "    .dataframe thead th {\n",
       "        text-align: right;\n",
       "    }\n",
       "</style>\n",
       "<table border=\"1\" class=\"dataframe\">\n",
       "  <thead>\n",
       "    <tr style=\"text-align: right;\">\n",
       "      <th></th>\n",
       "      <th>Largemouth bass</th>\n",
       "      <th>Bullhead</th>\n",
       "      <th>Rock bass</th>\n",
       "      <th>Bluegill</th>\n",
       "    </tr>\n",
       "  </thead>\n",
       "  <tbody>\n",
       "    <tr>\n",
       "      <th>Bluegill</th>\n",
       "      <td>0.26</td>\n",
       "      <td>0.00</td>\n",
       "      <td>0.16</td>\n",
       "      <td>-0.06</td>\n",
       "    </tr>\n",
       "    <tr>\n",
       "      <th>Rock bass</th>\n",
       "      <td>0.08</td>\n",
       "      <td>-0.18</td>\n",
       "      <td>-0.02</td>\n",
       "      <td>-0.24</td>\n",
       "    </tr>\n",
       "    <tr>\n",
       "      <th>Bullhead</th>\n",
       "      <td>0.22</td>\n",
       "      <td>-0.04</td>\n",
       "      <td>0.12</td>\n",
       "      <td>-0.10</td>\n",
       "    </tr>\n",
       "    <tr>\n",
       "      <th>Largemouth bass</th>\n",
       "      <td>0.04</td>\n",
       "      <td>-0.22</td>\n",
       "      <td>-0.06</td>\n",
       "      <td>-0.28</td>\n",
       "    </tr>\n",
       "  </tbody>\n",
       "</table>\n",
       "</div>"
      ],
      "text/plain": [
       "                 Largemouth bass  Bullhead  Rock bass  Bluegill\n",
       "Bluegill                    0.26      0.00       0.16     -0.06\n",
       "Rock bass                   0.08     -0.18      -0.02     -0.24\n",
       "Bullhead                    0.22     -0.04       0.12     -0.10\n",
       "Largemouth bass             0.04     -0.22      -0.06     -0.28"
      ]
     },
     "execution_count": 92,
     "metadata": {},
     "output_type": "execute_result"
    }
   ],
   "source": [
    "# LOAD\n",
    "\n",
    "idx = [\n",
    "    \"Bluegill\", \n",
    "    \"Rock bass\",\n",
    "    # \"Brown bullhead\",\n",
    "    \"Bullhead\",\n",
    "    \"Largemouth bass\",\n",
    "    # \"Common carp\",\n",
    "    # \"Walleye\"\n",
    "    ]\n",
    "\n",
    "Up = [0.22, 0.40, 0.26, 0.44, 0.34, 0.21]\n",
    "Up = [0.22, 0.40, 0.26, 0.44]\n",
    "\n",
    "data = {\n",
    "    \"Largemouth bass\": [0.48 - s for s in Up],\n",
    "    # \"Black bullhead\": [0.22 - s for s in Up],\n",
    "    \"Bullhead\": [0.22 - s for s in Up],\n",
    "    \"Rock bass\": [0.38 - s for s in Up],\n",
    "    \"Bluegill\": [0.16 - s for s in Up], \n",
    "}\n",
    "\n",
    "df = pd.DataFrame(data, index=idx)\n",
    "\n",
    "df"
   ]
  },
  {
   "cell_type": "markdown",
   "metadata": {},
   "source": [
    "### `Add in some Plot Formatting`"
   ]
  },
  {
   "cell_type": "code",
   "execution_count": 93,
   "metadata": {},
   "outputs": [],
   "source": [
    "matplotlib.rcParams['font.family'] = 'calibri'\n",
    "matplotlib.rcParams['axes.titlecolor'] = 'black'\n",
    "matplotlib.rcParams['axes.titlesize'] = 43\n",
    "matplotlib.rcParams['axes.titlepad'] = 15\n",
    "matplotlib.rcParams['axes.labelcolor'] = 'black'\n",
    "matplotlib.rcParams['axes.labelsize'] = 30\n",
    "matplotlib.rcParams['axes.labelpad'] = 25\n",
    "matplotlib.rcParams['axes.xmargin'] = .75\n",
    "matplotlib.rcParams['axes.ymargin'] = .025\n",
    "matplotlib.rcParams['axes.edgecolor'] = 'black'\n",
    "matplotlib.rcParams['axes.formatter.use_mathtext'] = True\n",
    "matplotlib.rcParams['xtick.labelsize'] = 24\n",
    "matplotlib.rcParams['ytick.labelsize'] = 24\n",
    "matplotlib.rcParams['legend.fontsize'] = 24\n",
    "matplotlib.rcParams['legend.labelspacing'] = 0.8\n",
    "matplotlib.rcParams['legend.framealpha'] = 0\n",
    "matplotlib.rcParams['text.usetex'] = True"
   ]
  },
  {
   "cell_type": "markdown",
   "metadata": {},
   "source": [
    "Note: you will need a $\\LaTeX$ distribution installed"
   ]
  },
  {
   "cell_type": "markdown",
   "metadata": {},
   "source": [
    "### `Define some UM COLORS`"
   ]
  },
  {
   "cell_type": "code",
   "execution_count": 94,
   "metadata": {},
   "outputs": [],
   "source": [
    "ummaize = '#FFCB05'\n",
    "umblue = '#00274C'\n",
    "umgrey = '#989C97'\n",
    "rossorange = '#D86018'\n",
    "tappanred = '#9A3324'\n",
    "# rackhamgreen = '#75988d'\n",
    "# wavefieldgreen = '#A5A508'\n",
    "\n",
    "cdict = {'blue': (umblue), 'maize': (ummaize)}\n",
    "um_cmap = matplotlib.colors.LinearSegmentedColormap.from_list(\"\", [umblue,rossorange,ummaize])"
   ]
  },
  {
   "cell_type": "markdown",
   "metadata": {},
   "source": [
    "### `make the PLOT`"
   ]
  },
  {
   "cell_type": "code",
   "execution_count": 97,
   "metadata": {},
   "outputs": [
    {
     "name": "stderr",
     "output_type": "stream",
     "text": [
      "C:\\Users\\cason\\AppData\\Local\\Temp/ipykernel_4520/156236844.py:10: UserWarning: FixedFormatter should only be used together with FixedLocator\n",
      "  cbar.set_ticklabels([r'$\\mathbf{-0.3}$',r'$\\mathbf{-0.2}$',r'$\\mathbf{-0.1}$',r'$\\mathbf{0.0}$',r'$\\mathbf{+0.1}$',r'$\\mathbf{+0.2}$',r'$\\mathbf{+0.3}$'])\n"
     ]
    },
    {
     "data": {
      "image/png": "[encoded data removed]",
      "text/plain": [
       "<Figure size 720x504 with 2 Axes>"
      ]
     },
     "metadata": {
      "needs_background": "light"
     },
     "output_type": "display_data"
    }
   ],
   "source": [
    "# PLOT\n",
    "im, cbar = heatmap(\n",
    "    data=df.T,\n",
    "    row_labels=[r\"\\textbf{\" + str(fish) + r\"}\" for fish in df.index],\n",
    "    col_labels=[r\"\\textbf{\" + str(fish) + r\"}\" for fish in df.columns],\n",
    "    cmap=um_cmap,\n",
    "    cbarlabel=r\"{$\\mathbf{\\Delta}$} \\textbf{mg/kg dry weight}\",\n",
    "    )\n",
    "\n",
    "cbar.set_ticklabels([r'$\\mathbf{-0.3}$',r'$\\mathbf{-0.2}$',r'$\\mathbf{-0.1}$',r'$\\mathbf{0.0}$',r'$\\mathbf{+0.1}$',r'$\\mathbf{+0.2}$',r'$\\mathbf{+0.3}$'])\n",
    "\n",
    "annotate_heatmap(\n",
    "    im,\n",
    "    data=df,\n",
    "    valfmt=\"{x:.2f}\",\n",
    "    size=20,\n",
    "    textcolors=(ummaize, umblue),\n",
    "    fontweight=\"bold\",\n",
    "    threshold=None,\n",
    ")\n",
    "\n",
    "# SCALE\n",
    "fig = plt.gcf()\n",
    "fig.set_size_inches(10, 7)\n",
    "\n",
    "# LABEL\n",
    "plt.title(r'\\textbf{Hg Difference}', style='oblique')\n",
    "# plt.xlabel(r'\\textbf{Downstream}', style='italic')\n",
    "plt.ylabel(r'\\textbf{Downstream}', style='italic')\n",
    "# plt.ylabel(r'\\textbf{Upstream}', style='italic')\n",
    "plt.xlabel(r'\\textbf{Upstream}', style='italic')\n",
    "\n",
    "im.axes.add_patch(Rectangle((2.5, -0.5), 1, 1, fill=False, edgecolor=tappanred, lw=2.5, zorder=5))\n",
    "im.axes.add_patch(Rectangle((1.5, 0.5), 1, 1, fill=False, edgecolor=tappanred, lw=2.5, zorder=5))\n",
    "im.axes.add_patch(Rectangle((0.5, 1.5), 1, 1, fill=False, edgecolor=tappanred, lw=2.5, zorder=5))\n",
    "im.axes.add_patch(Rectangle((-0.5, 2.5), 1, 1, fill=False, edgecolor=tappanred, lw=2.5, zorder=5))\n",
    "\n",
    "# SHOW\n",
    "fig.savefig('F:\\\\Research\\\\Funded\\\\UIREEJ\\\\Flint_River_Ecology\\\\Poster\\\\Img\\\\Hg.png', dpi=150, bbox_inches='tight')\n",
    "plt.show()"
   ]
  }
 ],
 "metadata": {
  "interpreter": {
   "hash": "b89b5cfaba6639976dc87ff2fec6d58faec662063367e2c229c520fe71072417"
  },
  "kernelspec": {
   "display_name": "Python 3.10.0 64-bit",
   "language": "python",
   "name": "python3"
  },
  "language_info": {
   "codemirror_mode": {
    "name": "ipython",
    "version": 3
   },
   "file_extension": ".py",
   "mimetype": "text/x-python",
   "name": "python",
   "nbconvert_exporter": "python",
   "pygments_lexer": "ipython3",
   "version": "3.10.0"
  },
  "orig_nbformat": 4
 },
 "nbformat": 4,
 "nbformat_minor": 2
}
