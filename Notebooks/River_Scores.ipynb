{
 "cells": [
  {
   "cell_type": "code",
   "execution_count": 43,
   "metadata": {},
   "outputs": [],
   "source": [
    "import pandas as pd\n",
    "import seaborn as sns\n",
    "import matplotlib\n",
    "import matplotlib.pyplot as plt"
   ]
  },
  {
   "cell_type": "code",
   "execution_count": 44,
   "metadata": {},
   "outputs": [],
   "source": [
    "ummaize = '#FFCB05'"
   ]
  },
  {
   "cell_type": "code",
   "execution_count": 45,
   "metadata": {},
   "outputs": [],
   "source": [
    "loc = [1,1,1,1,1,1,0,0,1,0,1,1,1,1,1,1,1,1,1,1,1,0,0,0,1,1,1,1,1,1,0,0,1,1,1,1,1,0,1]\n",
    "score = [37.9,27.1,33.4,21.1,41.1,46.9,41.2,32,17.8,22.9,39.3,37.8,29.6,21.0,33.1,29.0,32.8,27.7,21.6,29.9,22,37.4,37.5,33.9,27,42.3,21.7,36.2,30,28.8,29.8,33,42.4,30,34.7,27.9,28.8,35.1,20.6]\n",
    "\n",
    "\n",
    "df = pd.DataFrame({'loc':loc,'score':score})"
   ]
  },
  {
   "cell_type": "code",
   "execution_count": 46,
   "metadata": {},
   "outputs": [],
   "source": [
    "matplotlib.rcParams['axes.linewidth'] = 2.5\n",
    "matplotlib.rcParams['axes.labelsize'] = 22\n",
    "matplotlib.rcParams['axes.labelcolor'] = 'black'\n",
    "matplotlib.rcParams['axes.edgecolor'] = 'black'\n",
    "matplotlib.rcParams['axes.facecolor'] = 'white'\n",
    "matplotlib.rcParams['axes.formatter.use_mathtext'] = True\n",
    "\n",
    "matplotlib.rcParams['xtick.color'] = 'black'\n",
    "matplotlib.rcParams['ytick.color'] = 'black'\n",
    "matplotlib.rcParams['xtick.labelcolor'] = 'black'\n",
    "matplotlib.rcParams['ytick.labelcolor'] = 'black'\n",
    "matplotlib.rcParams['xtick.labelsize'] = 24\n",
    "matplotlib.rcParams['ytick.labelsize'] = 24\n",
    "matplotlib.rcParams['xtick.major.size'] = 17.5\n",
    "matplotlib.rcParams['ytick.major.size'] = 17.5\n",
    "matplotlib.rcParams['xtick.major.width'] = 2.5\n",
    "matplotlib.rcParams['ytick.major.width'] = 2.5\n",
    "matplotlib.rcParams['xtick.minor.size'] = 12.75\n",
    "matplotlib.rcParams['ytick.minor.size'] = 12.75\n",
    "matplotlib.rcParams['xtick.minor.width'] = 1.5\n",
    "matplotlib.rcParams['ytick.minor.width'] = 1.5\n",
    "\n",
    "matplotlib.rcParams['figure.figsize'] = [7, 5]\n",
    "matplotlib.rcParams['figure.edgecolor'] = 'black'\n",
    "matplotlib.rcParams['figure.facecolor'] = 'white'\n",
    "matplotlib.rcParams['figure.frameon'] = True\n",
    "matplotlib.rcParams['figure.titlesize'] = 36\n",
    "matplotlib.rcParams['figure.constrained_layout.use'] = True\n",
    "matplotlib.rcParams['figure.constrained_layout.h_pad'] = 0.25\n",
    "matplotlib.rcParams['figure.constrained_layout.w_pad'] = 0.25\n",
    "matplotlib.rcParams['figure.constrained_layout.hspace'] = 0.0125\n",
    "matplotlib.rcParams['figure.constrained_layout.wspace'] = 0.25\n",
    "\n",
    "matplotlib.rcParams['legend.facecolor'] = 'white'\n",
    "matplotlib.rcParams['legend.fontsize'] = 20\n",
    "matplotlib.rcParams['legend.labelspacing'] = 1\n",
    "matplotlib.rcParams['legend.labelcolor'] = 'black'\n",
    "matplotlib.rcParams['legend.frameon'] = True\n",
    "matplotlib.rcParams['legend.framealpha'] = 1\n",
    "matplotlib.rcParams['legend.shadow'] = True\n",
    "\n",
    "matplotlib.rcParams['grid.color'] = 'black'\n",
    "matplotlib.rcParams['grid.alpha'] = 0.25\n",
    "\n",
    "matplotlib.rcParams['text.usetex'] = True\n",
    "matplotlib.rcParams['text.color'] = 'black'\n",
    "\n",
    "matplotlib.rcParams['font.size'] = 18\n",
    "matplotlib.rcParams['font.family'] = 'calibri'"
   ]
  },
  {
   "cell_type": "code",
   "execution_count": 47,
   "metadata": {},
   "outputs": [],
   "source": [
    "from matplotlib.text import Text"
   ]
  },
  {
   "cell_type": "code",
   "execution_count": 63,
   "metadata": {},
   "outputs": [
    {
     "data": {
      "image/png": "[encoded data removed]",
      "text/plain": [
       "<Figure size 504x360 with 1 Axes>"
      ]
     },
     "metadata": {},
     "output_type": "display_data"
    }
   ],
   "source": [
    "ax = sns.boxplot(x=df['loc'], y=df['score'], color=ummaize)\n",
    "ax.set_title(r'\\textbf{Biomonitoring}', fontsize=32)\n",
    "ax.set_xlabel(r'')\n",
    "ax.set_ylabel(r'\\textbf{Average Stream Score}')\n",
    "ax.set_xticklabels([r'\\textbf{Down Stream}',r'\\textbf{Up Stream}'])\n",
    "\n",
    "ax.text(-0.22,5, r\"\\noindent \\textbf{$ Excellent > 48 $, $ Good = 34-48 $ \\\\ $ Fair = 19-33$, $Poor < 19 $}\", bbox=dict(boxstyle = \"square\",\n",
    "                  facecolor = \"white\"))\n",
    "\n",
    "plt.savefig('F:\\\\Funded\\\\UIREEJ\\\\Flint_River_Ecology\\\\Poster\\\\Img\\\\Biomonitoring.png', dpi=500, bbox_inches='tight')\n"
   ]
  },
  {
   "cell_type": "code",
   "execution_count": null,
   "metadata": {},
   "outputs": [],
   "source": []
  }
 ],
 "metadata": {
  "interpreter": {
   "hash": "d175772e32d85a6a99bf37dbf82128b1e595f4388b88d65b00d71702632dcfa9"
  },
  "kernelspec": {
   "display_name": "Python 3.9.9 64-bit (system)",
   "language": "python",
   "name": "python3"
  },
  "language_info": {
   "codemirror_mode": {
    "name": "ipython",
    "version": 3
   },
   "file_extension": ".py",
   "mimetype": "text/x-python",
   "name": "python",
   "nbconvert_exporter": "python",
   "pygments_lexer": "ipython3",
   "version": "3.10.0"
  },
  "orig_nbformat": 4
 },
 "nbformat": 4,
 "nbformat_minor": 2
}
