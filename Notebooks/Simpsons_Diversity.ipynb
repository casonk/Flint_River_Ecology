{
 "cells": [
  {
   "cell_type": "markdown",
   "metadata": {},
   "source": [
    "## Follow along in this notebook to see the how we got the Diversity index numbers"
   ]
  },
  {
   "cell_type": "markdown",
   "metadata": {},
   "source": [
    "### We will first import any packages needed"
   ]
  },
  {
   "cell_type": "code",
   "execution_count": 36,
   "metadata": {},
   "outputs": [],
   "source": [
    "import pandas as pd "
   ]
  },
  {
   "cell_type": "markdown",
   "metadata": {},
   "source": [
    "### We can now load in and preview the data"
   ]
  },
  {
   "cell_type": "code",
   "execution_count": 37,
   "metadata": {},
   "outputs": [
    {
     "data": {
      "text/html": [
       "<div>\n",
       "<style scoped>\n",
       "    .dataframe tbody tr th:only-of-type {\n",
       "        vertical-align: middle;\n",
       "    }\n",
       "\n",
       "    .dataframe tbody tr th {\n",
       "        vertical-align: top;\n",
       "    }\n",
       "\n",
       "    .dataframe thead th {\n",
       "        text-align: right;\n",
       "    }\n",
       "</style>\n",
       "<table border=\"1\" class=\"dataframe\">\n",
       "  <thead>\n",
       "    <tr style=\"text-align: right;\">\n",
       "      <th></th>\n",
       "      <th>Fish</th>\n",
       "      <th>Site</th>\n",
       "      <th>_Site</th>\n",
       "      <th>_Species</th>\n",
       "    </tr>\n",
       "  </thead>\n",
       "  <tbody>\n",
       "    <tr>\n",
       "      <th>0</th>\n",
       "      <td>1.0</td>\n",
       "      <td>2.0</td>\n",
       "      <td>South Up-Stream</td>\n",
       "      <td>Smallmouth bass</td>\n",
       "    </tr>\n",
       "    <tr>\n",
       "      <th>1</th>\n",
       "      <td>2.0</td>\n",
       "      <td>2.0</td>\n",
       "      <td>South Up-Stream</td>\n",
       "      <td>Smallmouth bass</td>\n",
       "    </tr>\n",
       "    <tr>\n",
       "      <th>2</th>\n",
       "      <td>3.0</td>\n",
       "      <td>2.0</td>\n",
       "      <td>South Up-Stream</td>\n",
       "      <td>Smallmouth bass</td>\n",
       "    </tr>\n",
       "    <tr>\n",
       "      <th>3</th>\n",
       "      <td>4.0</td>\n",
       "      <td>2.0</td>\n",
       "      <td>South Up-Stream</td>\n",
       "      <td>Rock bass</td>\n",
       "    </tr>\n",
       "    <tr>\n",
       "      <th>4</th>\n",
       "      <td>5.0</td>\n",
       "      <td>2.0</td>\n",
       "      <td>South Up-Stream</td>\n",
       "      <td>Rock bass</td>\n",
       "    </tr>\n",
       "    <tr>\n",
       "      <th>5</th>\n",
       "      <td>6.0</td>\n",
       "      <td>2.0</td>\n",
       "      <td>South Up-Stream</td>\n",
       "      <td>Bluegill</td>\n",
       "    </tr>\n",
       "    <tr>\n",
       "      <th>6</th>\n",
       "      <td>7.0</td>\n",
       "      <td>2.0</td>\n",
       "      <td>South Up-Stream</td>\n",
       "      <td>Bluegill</td>\n",
       "    </tr>\n",
       "    <tr>\n",
       "      <th>7</th>\n",
       "      <td>8.0</td>\n",
       "      <td>2.0</td>\n",
       "      <td>South Up-Stream</td>\n",
       "      <td>Bluegill</td>\n",
       "    </tr>\n",
       "    <tr>\n",
       "      <th>8</th>\n",
       "      <td>9.0</td>\n",
       "      <td>2.0</td>\n",
       "      <td>South Up-Stream</td>\n",
       "      <td>Green sunfish</td>\n",
       "    </tr>\n",
       "    <tr>\n",
       "      <th>9</th>\n",
       "      <td>10.0</td>\n",
       "      <td>2.0</td>\n",
       "      <td>South Up-Stream</td>\n",
       "      <td>Green sunfish</td>\n",
       "    </tr>\n",
       "    <tr>\n",
       "      <th>10</th>\n",
       "      <td>11.0</td>\n",
       "      <td>2.0</td>\n",
       "      <td>South Up-Stream</td>\n",
       "      <td>Yellow perch</td>\n",
       "    </tr>\n",
       "    <tr>\n",
       "      <th>11</th>\n",
       "      <td>12.0</td>\n",
       "      <td>2.0</td>\n",
       "      <td>South Up-Stream</td>\n",
       "      <td>Bluegill</td>\n",
       "    </tr>\n",
       "    <tr>\n",
       "      <th>12</th>\n",
       "      <td>13.0</td>\n",
       "      <td>2.0</td>\n",
       "      <td>South Up-Stream</td>\n",
       "      <td>Bluegill</td>\n",
       "    </tr>\n",
       "    <tr>\n",
       "      <th>13</th>\n",
       "      <td>14.0</td>\n",
       "      <td>2.0</td>\n",
       "      <td>South Up-Stream</td>\n",
       "      <td>Round goby</td>\n",
       "    </tr>\n",
       "    <tr>\n",
       "      <th>14</th>\n",
       "      <td>15.0</td>\n",
       "      <td>2.0</td>\n",
       "      <td>South Up-Stream</td>\n",
       "      <td>Largemouth bass</td>\n",
       "    </tr>\n",
       "  </tbody>\n",
       "</table>\n",
       "</div>"
      ],
      "text/plain": [
       "    Fish  Site            _Site         _Species\n",
       "0    1.0   2.0  South Up-Stream  Smallmouth bass\n",
       "1    2.0   2.0  South Up-Stream  Smallmouth bass\n",
       "2    3.0   2.0  South Up-Stream  Smallmouth bass\n",
       "3    4.0   2.0  South Up-Stream        Rock bass\n",
       "4    5.0   2.0  South Up-Stream        Rock bass\n",
       "5    6.0   2.0  South Up-Stream         Bluegill\n",
       "6    7.0   2.0  South Up-Stream         Bluegill\n",
       "7    8.0   2.0  South Up-Stream         Bluegill\n",
       "8    9.0   2.0  South Up-Stream    Green sunfish\n",
       "9   10.0   2.0  South Up-Stream    Green sunfish\n",
       "10  11.0   2.0  South Up-Stream     Yellow perch\n",
       "11  12.0   2.0  South Up-Stream         Bluegill\n",
       "12  13.0   2.0  South Up-Stream         Bluegill\n",
       "13  14.0   2.0  South Up-Stream       Round goby\n",
       "14  15.0   2.0  South Up-Stream  Largemouth bass"
      ]
     },
     "execution_count": 37,
     "metadata": {},
     "output_type": "execute_result"
    }
   ],
   "source": [
    "cfh = 'F:\\\\Research\\\\Funded\\\\UIREEJ\\\\Flint_River_Ecology\\\\Data\\\\Catch.pkl'\n",
    "catch = pd.read_pickle(cfh)\n",
    "catch[['Fish', 'Site', '_Site', '_Species']].head(15)"
   ]
  },
  {
   "cell_type": "markdown",
   "metadata": {},
   "source": [
    "### Remove Unknown Species"
   ]
  },
  {
   "cell_type": "code",
   "execution_count": 38,
   "metadata": {},
   "outputs": [],
   "source": [
    "unknown = catch['_Species'] == 'Unknown'\n",
    "catch = catch[~unknown]"
   ]
  },
  {
   "cell_type": "markdown",
   "metadata": {},
   "source": [
    "### Site Diversity\n",
    "\n",
    "#### Simpson's Diversity Index \n",
    "\n",
    "* $ \\displaystyle D = 1 - \\frac {\\sum n(n-1)} {N(N-1)} $ \n",
    "\n",
    "* $ 1 $ represents $ \\infty $ diversity and $ 0 $ represents no diversity. "
   ]
  },
  {
   "cell_type": "code",
   "execution_count": 39,
   "metadata": {},
   "outputs": [
    {
     "data": {
      "text/plain": [
       "_Site\n",
       "North Down-Stream    469276\n",
       "North Up-Stream       13686\n",
       "South Down-Stream    268604\n",
       "South Up-Stream       53768\n",
       "Name: _Species, dtype: int64"
      ]
     },
     "execution_count": 39,
     "metadata": {},
     "output_type": "execute_result"
    }
   ],
   "source": [
    "numer = catch.groupby(by='_Site')['_Species'].apply(\n",
    "    lambda x: (x.value_counts() * (x.value_counts() - 1)).sum()\n",
    "    )\n",
    "\n",
    "numer"
   ]
  },
  {
   "cell_type": "code",
   "execution_count": 40,
   "metadata": {},
   "outputs": [
    {
     "data": {
      "text/plain": [
       "_Site\n",
       "North Down-Stream     905352\n",
       "North Up-Stream        48180\n",
       "South Down-Stream    1161006\n",
       "South Up-Stream       228006\n",
       "Name: _Species, dtype: int64"
      ]
     },
     "execution_count": 40,
     "metadata": {},
     "output_type": "execute_result"
    }
   ],
   "source": [
    "N = catch.groupby(by='_Site')['_Species'].apply(\n",
    "    lambda x: x.value_counts().sum()\n",
    "    )\n",
    "\n",
    "denom = N*(N-1)\n",
    "denom"
   ]
  },
  {
   "cell_type": "code",
   "execution_count": 41,
   "metadata": {},
   "outputs": [
    {
     "data": {
      "text/plain": [
       "_Site\n",
       "North Down-Stream    0.481665\n",
       "North Up-Stream      0.715940\n",
       "South Up-Stream      0.764182\n",
       "South Down-Stream    0.768645\n",
       "Name: _Species, dtype: float64"
      ]
     },
     "execution_count": 41,
     "metadata": {},
     "output_type": "execute_result"
    }
   ],
   "source": [
    "D = 1 - (numer/denom)\n",
    "D.sort_values()"
   ]
  },
  {
   "cell_type": "markdown",
   "metadata": {},
   "source": [
    "### Locale Diversity"
   ]
  },
  {
   "cell_type": "markdown",
   "metadata": {},
   "source": [
    "#### Aggregate Sites"
   ]
  },
  {
   "cell_type": "code",
   "execution_count": 42,
   "metadata": {},
   "outputs": [],
   "source": [
    "catch['_Site'].replace('North Down-Stream', 'Down-Stream', inplace=True)\n",
    "catch['_Site'].replace('South Down-Stream', 'Down-Stream', inplace=True)\n",
    "catch['_Site'].replace('South Up-Stream', 'Up-Stream', inplace=True)\n",
    "catch['_Site'].replace('North Up-Stream', 'Up-Stream', inplace=True)"
   ]
  },
  {
   "cell_type": "code",
   "execution_count": 43,
   "metadata": {},
   "outputs": [
    {
     "data": {
      "text/plain": [
       "_Site\n",
       "Down-Stream    1358332\n",
       "Up-Stream       121218\n",
       "Name: _Species, dtype: int64"
      ]
     },
     "execution_count": 43,
     "metadata": {},
     "output_type": "execute_result"
    }
   ],
   "source": [
    "numer = catch.groupby(by='_Site')['_Species'].apply(\n",
    "    lambda x: (x.value_counts() * (x.value_counts() - 1)).sum()\n",
    "    )\n",
    "\n",
    "numer"
   ]
  },
  {
   "cell_type": "code",
   "execution_count": 44,
   "metadata": {},
   "outputs": [
    {
     "data": {
      "text/plain": [
       "_Site\n",
       "Down-Stream    4118870\n",
       "Up-Stream       486506\n",
       "Name: _Species, dtype: int64"
      ]
     },
     "execution_count": 44,
     "metadata": {},
     "output_type": "execute_result"
    }
   ],
   "source": [
    "N = catch.groupby(by='_Site')['_Species'].apply(\n",
    "    lambda x: x.value_counts().sum()\n",
    "    )\n",
    "\n",
    "denom = N*(N-1)\n",
    "denom"
   ]
  },
  {
   "cell_type": "code",
   "execution_count": 45,
   "metadata": {},
   "outputs": [
    {
     "data": {
      "text/plain": [
       "_Site\n",
       "Down-Stream    0.670217\n",
       "Up-Stream      0.750840\n",
       "Name: _Species, dtype: float64"
      ]
     },
     "execution_count": 45,
     "metadata": {},
     "output_type": "execute_result"
    }
   ],
   "source": [
    "D = 1 - (numer/denom)\n",
    "D.sort_values()"
   ]
  }
 ],
 "metadata": {
  "interpreter": {
   "hash": "b89b5cfaba6639976dc87ff2fec6d58faec662063367e2c229c520fe71072417"
  },
  "kernelspec": {
   "display_name": "Python 3.10.0 64-bit",
   "language": "python",
   "name": "python3"
  },
  "language_info": {
   "codemirror_mode": {
    "name": "ipython",
    "version": 3
   },
   "file_extension": ".py",
   "mimetype": "text/x-python",
   "name": "python",
   "nbconvert_exporter": "python",
   "pygments_lexer": "ipython3",
   "version": "3.10.0"
  },
  "orig_nbformat": 4
 },
 "nbformat": 4,
 "nbformat_minor": 2
}
