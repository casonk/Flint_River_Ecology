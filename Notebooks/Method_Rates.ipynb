{
 "cells": [
  {
   "cell_type": "markdown",
   "metadata": {},
   "source": [
    "## `Follow along in this notebook to see the creation process of Figure 3: Method Rates`"
   ]
  },
  {
   "cell_type": "markdown",
   "metadata": {},
   "source": [
    "### `We will first import any packages needed`"
   ]
  },
  {
   "cell_type": "code",
   "execution_count": 1,
   "metadata": {},
   "outputs": [],
   "source": [
    "import pandas as pd \n",
    "import numpy as np\n",
    "import seaborn as sns\n",
    "import matplotlib\n",
    "import matplotlib.pyplot as plt"
   ]
  },
  {
   "cell_type": "markdown",
   "metadata": {},
   "source": [
    "### `We can now load in and preview the data`"
   ]
  },
  {
   "cell_type": "code",
   "execution_count": 2,
   "metadata": {},
   "outputs": [],
   "source": [
    "cfh = 'F:\\\\Research\\\\Funded\\\\UIREEJ\\\\Data\\\\Catch.pkl'\n",
    "catch = pd.read_pickle(cfh)\n",
    "\n",
    "catch['_Site'].replace('North Down-Stream', 'Down-Stream', inplace=True)\n",
    "catch['_Site'].replace('South Down-Stream', 'Down-Stream', inplace=True)\n",
    "catch['_Site'].replace('South Up-Stream', 'Up-Stream', inplace=True)\n",
    "catch['_Site'].replace('North Up-Stream', 'Up-Stream', inplace=True)\n",
    "catch['Fishing_Gear'].replace('Dip net', 'Gill net', inplace=True)"
   ]
  },
  {
   "cell_type": "code",
   "execution_count": 3,
   "metadata": {},
   "outputs": [
    {
     "data": {
      "text/html": [
       "<div>\n",
       "<style scoped>\n",
       "    .dataframe tbody tr th:only-of-type {\n",
       "        vertical-align: middle;\n",
       "    }\n",
       "\n",
       "    .dataframe tbody tr th {\n",
       "        vertical-align: top;\n",
       "    }\n",
       "\n",
       "    .dataframe thead th {\n",
       "        text-align: right;\n",
       "    }\n",
       "</style>\n",
       "<table border=\"1\" class=\"dataframe\">\n",
       "  <thead>\n",
       "    <tr style=\"text-align: right;\">\n",
       "      <th></th>\n",
       "      <th></th>\n",
       "      <th>Fish_Caught</th>\n",
       "    </tr>\n",
       "    <tr>\n",
       "      <th>_Site</th>\n",
       "      <th>Fishing_Gear</th>\n",
       "      <th></th>\n",
       "    </tr>\n",
       "  </thead>\n",
       "  <tbody>\n",
       "    <tr>\n",
       "      <th rowspan=\"4\" valign=\"top\">Down-Stream</th>\n",
       "      <th>Cast Net</th>\n",
       "      <td>1908</td>\n",
       "    </tr>\n",
       "    <tr>\n",
       "      <th>Gill net</th>\n",
       "      <td>11</td>\n",
       "    </tr>\n",
       "    <tr>\n",
       "      <th>Hook and Line</th>\n",
       "      <td>96</td>\n",
       "    </tr>\n",
       "    <tr>\n",
       "      <th>Hoop trap</th>\n",
       "      <td>19</td>\n",
       "    </tr>\n",
       "    <tr>\n",
       "      <th rowspan=\"5\" valign=\"top\">Up-Stream</th>\n",
       "      <th>Cast Net</th>\n",
       "      <td>3</td>\n",
       "    </tr>\n",
       "    <tr>\n",
       "      <th>Electrofishing</th>\n",
       "      <td>641</td>\n",
       "    </tr>\n",
       "    <tr>\n",
       "      <th>Gill net</th>\n",
       "      <td>8</td>\n",
       "    </tr>\n",
       "    <tr>\n",
       "      <th>Hook and Line</th>\n",
       "      <td>14</td>\n",
       "    </tr>\n",
       "    <tr>\n",
       "      <th>Hoop trap</th>\n",
       "      <td>49</td>\n",
       "    </tr>\n",
       "  </tbody>\n",
       "</table>\n",
       "</div>"
      ],
      "text/plain": [
       "                            Fish_Caught\n",
       "_Site       Fishing_Gear               \n",
       "Down-Stream Cast Net               1908\n",
       "            Gill net                 11\n",
       "            Hook and Line            96\n",
       "            Hoop trap                19\n",
       "Up-Stream   Cast Net                  3\n",
       "            Electrofishing          641\n",
       "            Gill net                  8\n",
       "            Hook and Line            14\n",
       "            Hoop trap                49"
      ]
     },
     "execution_count": 3,
     "metadata": {},
     "output_type": "execute_result"
    }
   ],
   "source": [
    "c_groups = catch.groupby(by=['_Site', 'Fishing_Gear'])\n",
    "catch_per_loc = pd.DataFrame(c_groups['Fish'].agg('count'))\n",
    "catch_per_loc.columns = ['Fish_Caught']\n",
    "catch_per_loc"
   ]
  },
  {
   "cell_type": "code",
   "execution_count": 4,
   "metadata": {},
   "outputs": [],
   "source": [
    "efh = 'F:\\\\Research\\\\Funded\\\\UIREEJ\\\\Data\\\\Effort.pkl'\n",
    "effort = pd.read_pickle(efh)\n",
    "\n",
    "effort['_Site'].replace('North Down-Stream', 'Down-Stream', inplace=True)\n",
    "effort['_Site'].replace('South Down-Stream', 'Down-Stream', inplace=True)\n",
    "effort['_Site'].replace('South Up-Stream', 'Up-Stream', inplace=True)\n",
    "effort['_Site'].replace('North Up-Stream', 'Up-Stream', inplace=True)"
   ]
  },
  {
   "cell_type": "code",
   "execution_count": 5,
   "metadata": {},
   "outputs": [
    {
     "data": {
      "text/html": [
       "<div>\n",
       "<style scoped>\n",
       "    .dataframe tbody tr th:only-of-type {\n",
       "        vertical-align: middle;\n",
       "    }\n",
       "\n",
       "    .dataframe tbody tr th {\n",
       "        vertical-align: top;\n",
       "    }\n",
       "\n",
       "    .dataframe thead th {\n",
       "        text-align: right;\n",
       "    }\n",
       "</style>\n",
       "<table border=\"1\" class=\"dataframe\">\n",
       "  <thead>\n",
       "    <tr style=\"text-align: right;\">\n",
       "      <th></th>\n",
       "      <th></th>\n",
       "      <th>Fishing_Minutes</th>\n",
       "    </tr>\n",
       "    <tr>\n",
       "      <th>_Site</th>\n",
       "      <th>Fishing_Gear</th>\n",
       "      <th></th>\n",
       "    </tr>\n",
       "  </thead>\n",
       "  <tbody>\n",
       "    <tr>\n",
       "      <th rowspan=\"4\" valign=\"top\">Down-Stream</th>\n",
       "      <th>Cast Net</th>\n",
       "      <td>12758.72</td>\n",
       "    </tr>\n",
       "    <tr>\n",
       "      <th>Gill net</th>\n",
       "      <td>2125.00</td>\n",
       "    </tr>\n",
       "    <tr>\n",
       "      <th>Hook and Line</th>\n",
       "      <td>8324.00</td>\n",
       "    </tr>\n",
       "    <tr>\n",
       "      <th>Hoop trap</th>\n",
       "      <td>36935.00</td>\n",
       "    </tr>\n",
       "    <tr>\n",
       "      <th rowspan=\"5\" valign=\"top\">Up-Stream</th>\n",
       "      <th>Cast Net</th>\n",
       "      <td>290.00</td>\n",
       "    </tr>\n",
       "    <tr>\n",
       "      <th>Electrofishing</th>\n",
       "      <td>2179.99</td>\n",
       "    </tr>\n",
       "    <tr>\n",
       "      <th>Gill net</th>\n",
       "      <td>1980.00</td>\n",
       "    </tr>\n",
       "    <tr>\n",
       "      <th>Hook and Line</th>\n",
       "      <td>2110.00</td>\n",
       "    </tr>\n",
       "    <tr>\n",
       "      <th>Hoop trap</th>\n",
       "      <td>31940.00</td>\n",
       "    </tr>\n",
       "  </tbody>\n",
       "</table>\n",
       "</div>"
      ],
      "text/plain": [
       "                            Fishing_Minutes\n",
       "_Site       Fishing_Gear                   \n",
       "Down-Stream Cast Net               12758.72\n",
       "            Gill net                2125.00\n",
       "            Hook and Line           8324.00\n",
       "            Hoop trap              36935.00\n",
       "Up-Stream   Cast Net                 290.00\n",
       "            Electrofishing          2179.99\n",
       "            Gill net                1980.00\n",
       "            Hook and Line           2110.00\n",
       "            Hoop trap              31940.00"
      ]
     },
     "execution_count": 5,
     "metadata": {},
     "output_type": "execute_result"
    }
   ],
   "source": [
    "e_groups = effort.groupby(by=['_Site', 'Fishing_Gear'])\n",
    "effort_per_loc = pd.DataFrame(e_groups['Total Gear Effort (min)'].agg('sum')).drop('0')\n",
    "effort_per_loc.columns = ['Fishing_Minutes']\n",
    "effort_per_loc"
   ]
  },
  {
   "cell_type": "code",
   "execution_count": 6,
   "metadata": {},
   "outputs": [
    {
     "data": {
      "text/html": [
       "<div>\n",
       "<style scoped>\n",
       "    .dataframe tbody tr th:only-of-type {\n",
       "        vertical-align: middle;\n",
       "    }\n",
       "\n",
       "    .dataframe tbody tr th {\n",
       "        vertical-align: top;\n",
       "    }\n",
       "\n",
       "    .dataframe thead th {\n",
       "        text-align: right;\n",
       "    }\n",
       "</style>\n",
       "<table border=\"1\" class=\"dataframe\">\n",
       "  <thead>\n",
       "    <tr style=\"text-align: right;\">\n",
       "      <th></th>\n",
       "      <th></th>\n",
       "      <th>Catch_Per_Min</th>\n",
       "    </tr>\n",
       "    <tr>\n",
       "      <th>_Site</th>\n",
       "      <th>Fishing_Gear</th>\n",
       "      <th></th>\n",
       "    </tr>\n",
       "  </thead>\n",
       "  <tbody>\n",
       "    <tr>\n",
       "      <th rowspan=\"4\" valign=\"top\">Down-Stream</th>\n",
       "      <th>Cast Net</th>\n",
       "      <td>0.149545</td>\n",
       "    </tr>\n",
       "    <tr>\n",
       "      <th>Gill net</th>\n",
       "      <td>0.005176</td>\n",
       "    </tr>\n",
       "    <tr>\n",
       "      <th>Hook and Line</th>\n",
       "      <td>0.011533</td>\n",
       "    </tr>\n",
       "    <tr>\n",
       "      <th>Hoop trap</th>\n",
       "      <td>0.000514</td>\n",
       "    </tr>\n",
       "    <tr>\n",
       "      <th rowspan=\"5\" valign=\"top\">Up-Stream</th>\n",
       "      <th>Cast Net</th>\n",
       "      <td>0.010345</td>\n",
       "    </tr>\n",
       "    <tr>\n",
       "      <th>Electrofishing</th>\n",
       "      <td>0.294038</td>\n",
       "    </tr>\n",
       "    <tr>\n",
       "      <th>Gill net</th>\n",
       "      <td>0.004040</td>\n",
       "    </tr>\n",
       "    <tr>\n",
       "      <th>Hook and Line</th>\n",
       "      <td>0.006635</td>\n",
       "    </tr>\n",
       "    <tr>\n",
       "      <th>Hoop trap</th>\n",
       "      <td>0.001534</td>\n",
       "    </tr>\n",
       "  </tbody>\n",
       "</table>\n",
       "</div>"
      ],
      "text/plain": [
       "                            Catch_Per_Min\n",
       "_Site       Fishing_Gear                 \n",
       "Down-Stream Cast Net             0.149545\n",
       "            Gill net             0.005176\n",
       "            Hook and Line        0.011533\n",
       "            Hoop trap            0.000514\n",
       "Up-Stream   Cast Net             0.010345\n",
       "            Electrofishing       0.294038\n",
       "            Gill net             0.004040\n",
       "            Hook and Line        0.006635\n",
       "            Hoop trap            0.001534"
      ]
     },
     "execution_count": 6,
     "metadata": {},
     "output_type": "execute_result"
    }
   ],
   "source": [
    "catch_per_min = pd.DataFrame(catch_per_loc['Fish_Caught'] / effort_per_loc['Fishing_Minutes'])\n",
    "catch_per_min.columns = ['Catch_Per_Min']\n",
    "catch_per_min"
   ]
  },
  {
   "cell_type": "code",
   "execution_count": 7,
   "metadata": {},
   "outputs": [],
   "source": [
    "matplotlib.rcParams['font.family'] = 'calibri'\n",
    "matplotlib.rcParams['axes.titlecolor'] = 'black'\n",
    "matplotlib.rcParams['axes.titlesize'] = 43\n",
    "matplotlib.rcParams['axes.titlepad'] = 15\n",
    "matplotlib.rcParams['axes.labelcolor'] = 'black'\n",
    "matplotlib.rcParams['axes.labelsize'] = 30\n",
    "matplotlib.rcParams['axes.labelpad'] = 25\n",
    "matplotlib.rcParams['axes.xmargin'] = .75\n",
    "matplotlib.rcParams['axes.ymargin'] = .025\n",
    "matplotlib.rcParams['axes.edgecolor'] = 'black'\n",
    "matplotlib.rcParams['axes.formatter.use_mathtext'] = True\n",
    "matplotlib.rcParams['xtick.labelsize'] = 24\n",
    "matplotlib.rcParams['ytick.labelsize'] = 24\n",
    "matplotlib.rcParams['legend.fontsize'] = 24\n",
    "matplotlib.rcParams['legend.labelspacing'] = 0.8\n",
    "matplotlib.rcParams['legend.framealpha'] = 0\n",
    "matplotlib.rcParams['text.usetex'] = True"
   ]
  },
  {
   "cell_type": "code",
   "execution_count": 8,
   "metadata": {},
   "outputs": [
    {
     "data": {
      "image/png": "[encoded data removed]",
      "text/plain": [
       "<Figure size 720x504 with 1 Axes>"
      ]
     },
     "metadata": {
      "needs_background": "light"
     },
     "output_type": "display_data"
    }
   ],
   "source": [
    "fig = catch_per_min.unstack().T.plot.bar()\n",
    "\n",
    "fig.set_xticklabels(['Cast Net', 'Electrofishing', 'Gill net', 'Hook and Line', 'Hoop trap'])\n",
    "fig.set_xlabel('Gear')\n",
    "fig.set_ylabel('Average Catch per Minute')\n",
    "\n",
    "# SCALE\n",
    "fig = plt.gcf()\n",
    "fig.set_size_inches(10, 7)\n",
    "\n",
    "\n"
   ]
  }
 ],
 "metadata": {
  "interpreter": {
   "hash": "b89b5cfaba6639976dc87ff2fec6d58faec662063367e2c229c520fe71072417"
  },
  "kernelspec": {
   "display_name": "Python 3.10.0 64-bit",
   "language": "python",
   "name": "python3"
  },
  "language_info": {
   "codemirror_mode": {
    "name": "ipython",
    "version": 3
   },
   "file_extension": ".py",
   "mimetype": "text/x-python",
   "name": "python",
   "nbconvert_exporter": "python",
   "pygments_lexer": "ipython3",
   "version": "3.10.0"
  },
  "orig_nbformat": 4
 },
 "nbformat": 4,
 "nbformat_minor": 2
}
