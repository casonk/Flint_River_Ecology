{
 "cells": [
  {
   "cell_type": "markdown",
   "metadata": {},
   "source": [
    "## Follow along in this notebook to see the how we got the Diversity index numbers\n",
    "\n",
    "* https://en.wikipedia.org/wiki/Diversity_index\n",
    "* https://en.wikipedia.org/wiki/Gini_coefficient"
   ]
  },
  {
   "cell_type": "markdown",
   "metadata": {},
   "source": [
    "### We will first import any packages needed"
   ]
  },
  {
   "cell_type": "code",
   "execution_count": 85,
   "metadata": {},
   "outputs": [],
   "source": [
    "import pandas as pd \n",
    "import numpy as np"
   ]
  },
  {
   "cell_type": "markdown",
   "metadata": {},
   "source": [
    "### We can now load in and preview the data"
   ]
  },
  {
   "cell_type": "code",
   "execution_count": 86,
   "metadata": {},
   "outputs": [],
   "source": [
    "cfh = 'F:\\\\Research\\\\Funded\\\\UIREEJ\\\\Data\\\\Catch.pkl'\n",
    "catch = pd.read_pickle(cfh)\n",
    "# catch[['Fish', 'Site', '_Site', '_Species']].head(15)"
   ]
  },
  {
   "cell_type": "markdown",
   "metadata": {},
   "source": [
    "### Remove Unknown Species"
   ]
  },
  {
   "cell_type": "code",
   "execution_count": 87,
   "metadata": {},
   "outputs": [],
   "source": [
    "unknown = catch['_Species'] == 'Unknown'\n",
    "# shad = catch['_Species'] == 'Gizzard shad'\n",
    "catch = catch[~unknown]\n",
    "# catch = catch[~shad]\n",
    "catch2 = catch.copy()\n",
    "\n",
    "catch2['_Site'].replace('North Down-Stream', 'Down-Stream', inplace=True)\n",
    "catch2['_Site'].replace('South Down-Stream', 'Down-Stream', inplace=True)\n",
    "catch2['_Site'].replace('South Up-Stream', 'Up-Stream', inplace=True)\n",
    "catch2['_Site'].replace('North Up-Stream', 'Up-Stream', inplace=True)"
   ]
  },
  {
   "cell_type": "markdown",
   "metadata": {},
   "source": [
    "### Site Diversity"
   ]
  },
  {
   "cell_type": "markdown",
   "metadata": {},
   "source": [
    "#### Shannon index\n",
    "\n",
    "* $ \\displaystyle H' = - \\sum_{s=1}^{S} p_{s}log_{10}{(p_{s})} $ \n",
    "\n",
    "* The Shannon entropy quantifies the uncertainty (entropy or degree of surprise) associated with our species prediction."
   ]
  },
  {
   "cell_type": "code",
   "execution_count": 88,
   "metadata": {},
   "outputs": [
    {
     "data": {
      "text/html": [
       "<div>\n",
       "<style scoped>\n",
       "    .dataframe tbody tr th:only-of-type {\n",
       "        vertical-align: middle;\n",
       "    }\n",
       "\n",
       "    .dataframe tbody tr th {\n",
       "        vertical-align: top;\n",
       "    }\n",
       "\n",
       "    .dataframe thead th {\n",
       "        text-align: right;\n",
       "    }\n",
       "</style>\n",
       "<table border=\"1\" class=\"dataframe\">\n",
       "  <thead>\n",
       "    <tr style=\"text-align: right;\">\n",
       "      <th></th>\n",
       "      <th>Shannon Index/Entropy</th>\n",
       "    </tr>\n",
       "    <tr>\n",
       "      <th>_Site</th>\n",
       "      <th></th>\n",
       "    </tr>\n",
       "  </thead>\n",
       "  <tbody>\n",
       "    <tr>\n",
       "      <th>North Down-Stream</th>\n",
       "      <td>0.547209</td>\n",
       "    </tr>\n",
       "    <tr>\n",
       "      <th>North Up-Stream</th>\n",
       "      <td>0.706463</td>\n",
       "    </tr>\n",
       "    <tr>\n",
       "      <th>South Down-Stream</th>\n",
       "      <td>0.864131</td>\n",
       "    </tr>\n",
       "    <tr>\n",
       "      <th>South Up-Stream</th>\n",
       "      <td>0.782470</td>\n",
       "    </tr>\n",
       "  </tbody>\n",
       "</table>\n",
       "</div>"
      ],
      "text/plain": [
       "                   Shannon Index/Entropy\n",
       "_Site                                   \n",
       "North Down-Stream               0.547209\n",
       "North Up-Stream                 0.706463\n",
       "South Down-Stream               0.864131\n",
       "South Up-Stream                 0.782470"
      ]
     },
     "execution_count": 88,
     "metadata": {},
     "output_type": "execute_result"
    }
   ],
   "source": [
    "def shannon(x):\n",
    "    x = x.dropna().value_counts()\n",
    "    p = x / x.sum()\n",
    "    p = -p*np.log10(p)\n",
    "    shannon = p.sum()\n",
    "    return shannon\n",
    "\n",
    "shannon_all = pd.DataFrame(\n",
    "    catch.groupby(by='_Site')['_Species'].apply(\n",
    "    lambda x: shannon(x)\n",
    "    ))\n",
    "shannon_all.columns = [\"Shannon Index/Entropy\"]\n",
    "shannon_all"
   ]
  },
  {
   "cell_type": "code",
   "execution_count": 89,
   "metadata": {},
   "outputs": [
    {
     "data": {
      "text/html": [
       "<div>\n",
       "<style scoped>\n",
       "    .dataframe tbody tr th:only-of-type {\n",
       "        vertical-align: middle;\n",
       "    }\n",
       "\n",
       "    .dataframe tbody tr th {\n",
       "        vertical-align: top;\n",
       "    }\n",
       "\n",
       "    .dataframe thead th {\n",
       "        text-align: right;\n",
       "    }\n",
       "</style>\n",
       "<table border=\"1\" class=\"dataframe\">\n",
       "  <thead>\n",
       "    <tr style=\"text-align: right;\">\n",
       "      <th></th>\n",
       "      <th>Shannon Index/Entropy</th>\n",
       "    </tr>\n",
       "    <tr>\n",
       "      <th>_Site</th>\n",
       "      <th></th>\n",
       "    </tr>\n",
       "  </thead>\n",
       "  <tbody>\n",
       "    <tr>\n",
       "      <th>Down-Stream</th>\n",
       "      <td>0.753399</td>\n",
       "    </tr>\n",
       "    <tr>\n",
       "      <th>Up-Stream</th>\n",
       "      <td>0.771797</td>\n",
       "    </tr>\n",
       "  </tbody>\n",
       "</table>\n",
       "</div>"
      ],
      "text/plain": [
       "             Shannon Index/Entropy\n",
       "_Site                             \n",
       "Down-Stream               0.753399\n",
       "Up-Stream                 0.771797"
      ]
     },
     "execution_count": 89,
     "metadata": {},
     "output_type": "execute_result"
    }
   ],
   "source": [
    "shannon_strata = pd.DataFrame(\n",
    "    catch2.groupby(by='_Site')['_Species'].apply(\n",
    "    lambda x: shannon(x)\n",
    "    ))\n",
    "shannon_strata.columns = [\"Shannon Index/Entropy\"]\n",
    "shannon_strata"
   ]
  },
  {
   "cell_type": "markdown",
   "metadata": {},
   "source": [
    "#### Gini–Simpson index\n",
    "\n",
    "* $ \\displaystyle D = 1 - \\frac {\\sum_{s=1}^{S} n_{s}(n_{s}-1)} {N(N-1)} $ \n",
    "\n",
    "* $ D $ represents the probability that two entities taken at random from the dataset of interest (with replacement) represent different species."
   ]
  },
  {
   "cell_type": "code",
   "execution_count": 90,
   "metadata": {},
   "outputs": [
    {
     "data": {
      "text/html": [
       "<div>\n",
       "<style scoped>\n",
       "    .dataframe tbody tr th:only-of-type {\n",
       "        vertical-align: middle;\n",
       "    }\n",
       "\n",
       "    .dataframe tbody tr th {\n",
       "        vertical-align: top;\n",
       "    }\n",
       "\n",
       "    .dataframe thead th {\n",
       "        text-align: right;\n",
       "    }\n",
       "</style>\n",
       "<table border=\"1\" class=\"dataframe\">\n",
       "  <thead>\n",
       "    <tr style=\"text-align: right;\">\n",
       "      <th></th>\n",
       "      <th>Gini-Simpson Index</th>\n",
       "    </tr>\n",
       "    <tr>\n",
       "      <th>_Site</th>\n",
       "      <th></th>\n",
       "    </tr>\n",
       "  </thead>\n",
       "  <tbody>\n",
       "    <tr>\n",
       "      <th>North Down-Stream</th>\n",
       "      <td>0.481665</td>\n",
       "    </tr>\n",
       "    <tr>\n",
       "      <th>North Up-Stream</th>\n",
       "      <td>0.715940</td>\n",
       "    </tr>\n",
       "    <tr>\n",
       "      <th>South Down-Stream</th>\n",
       "      <td>0.768645</td>\n",
       "    </tr>\n",
       "    <tr>\n",
       "      <th>South Up-Stream</th>\n",
       "      <td>0.764182</td>\n",
       "    </tr>\n",
       "  </tbody>\n",
       "</table>\n",
       "</div>"
      ],
      "text/plain": [
       "                   Gini-Simpson Index\n",
       "_Site                                \n",
       "North Down-Stream            0.481665\n",
       "North Up-Stream              0.715940\n",
       "South Down-Stream            0.768645\n",
       "South Up-Stream              0.764182"
      ]
     },
     "execution_count": 90,
     "metadata": {},
     "output_type": "execute_result"
    }
   ],
   "source": [
    "def simpson(x):\n",
    "    x = x.value_counts()\n",
    "    numer = (x*(x-1)).sum()\n",
    "    denom = (x.sum()*(x.sum()-1))\n",
    "    simpson = 1 - numer/denom\n",
    "    return simpson\n",
    "\n",
    "simpson_all = pd.DataFrame(\n",
    "    catch.groupby(by='_Site')['_Species'].apply(\n",
    "    lambda x: simpson(x)\n",
    "    ))\n",
    "simpson_all.columns = [\"Gini-Simpson Index\"]\n",
    "simpson_all"
   ]
  },
  {
   "cell_type": "code",
   "execution_count": 91,
   "metadata": {},
   "outputs": [
    {
     "data": {
      "text/html": [
       "<div>\n",
       "<style scoped>\n",
       "    .dataframe tbody tr th:only-of-type {\n",
       "        vertical-align: middle;\n",
       "    }\n",
       "\n",
       "    .dataframe tbody tr th {\n",
       "        vertical-align: top;\n",
       "    }\n",
       "\n",
       "    .dataframe thead th {\n",
       "        text-align: right;\n",
       "    }\n",
       "</style>\n",
       "<table border=\"1\" class=\"dataframe\">\n",
       "  <thead>\n",
       "    <tr style=\"text-align: right;\">\n",
       "      <th></th>\n",
       "      <th>Gini-Simpson Index</th>\n",
       "    </tr>\n",
       "    <tr>\n",
       "      <th>_Site</th>\n",
       "      <th></th>\n",
       "    </tr>\n",
       "  </thead>\n",
       "  <tbody>\n",
       "    <tr>\n",
       "      <th>Down-Stream</th>\n",
       "      <td>0.670217</td>\n",
       "    </tr>\n",
       "    <tr>\n",
       "      <th>Up-Stream</th>\n",
       "      <td>0.750840</td>\n",
       "    </tr>\n",
       "  </tbody>\n",
       "</table>\n",
       "</div>"
      ],
      "text/plain": [
       "             Gini-Simpson Index\n",
       "_Site                          \n",
       "Down-Stream            0.670217\n",
       "Up-Stream              0.750840"
      ]
     },
     "execution_count": 91,
     "metadata": {},
     "output_type": "execute_result"
    }
   ],
   "source": [
    "simpson_strata = pd.DataFrame(\n",
    "    catch2.groupby(by='_Site')['_Species'].apply(\n",
    "    lambda x: simpson(x)\n",
    "    ))\n",
    "simpson_strata.columns = [\"Gini-Simpson Index\"]\n",
    "simpson_strata"
   ]
  },
  {
   "cell_type": "markdown",
   "metadata": {},
   "source": [
    "#### Gini Coefficient\n",
    "\n",
    "$ \\displaystyle G = \\frac{ \\sum_{i=1}^{n} \\sum_{j=1}^{n} | x_{i} - x_{j} | }{ 2n \\sum_{j=1}^{n} x_{j} } = \\frac{ \\sum_{i=1}^{n} | \\mathbf{X} - \\mathbf{X}_{i} | }{ 2n \\sum_{j=1}^{n} x_{j} } $\n",
    "\n",
    "Note: vector notation $\\mathbf{X}$ \n",
    "\n",
    "* Gini coefficient can theoretically range from 0 (complete equality) to 1 (complete inequality)"
   ]
  },
  {
   "cell_type": "code",
   "execution_count": 92,
   "metadata": {},
   "outputs": [
    {
     "data": {
      "text/html": [
       "<div>\n",
       "<style scoped>\n",
       "    .dataframe tbody tr th:only-of-type {\n",
       "        vertical-align: middle;\n",
       "    }\n",
       "\n",
       "    .dataframe tbody tr th {\n",
       "        vertical-align: top;\n",
       "    }\n",
       "\n",
       "    .dataframe thead th {\n",
       "        text-align: right;\n",
       "    }\n",
       "</style>\n",
       "<table border=\"1\" class=\"dataframe\">\n",
       "  <thead>\n",
       "    <tr style=\"text-align: right;\">\n",
       "      <th></th>\n",
       "      <th>Gini Coefficient</th>\n",
       "    </tr>\n",
       "    <tr>\n",
       "      <th>_Site</th>\n",
       "      <th></th>\n",
       "    </tr>\n",
       "  </thead>\n",
       "  <tbody>\n",
       "    <tr>\n",
       "      <th>North Down-Stream</th>\n",
       "      <td>0.853904</td>\n",
       "    </tr>\n",
       "    <tr>\n",
       "      <th>North Up-Stream</th>\n",
       "      <td>0.726061</td>\n",
       "    </tr>\n",
       "    <tr>\n",
       "      <th>South Down-Stream</th>\n",
       "      <td>0.784058</td>\n",
       "    </tr>\n",
       "    <tr>\n",
       "      <th>South Up-Stream</th>\n",
       "      <td>0.687587</td>\n",
       "    </tr>\n",
       "  </tbody>\n",
       "</table>\n",
       "</div>"
      ],
      "text/plain": [
       "                   Gini Coefficient\n",
       "_Site                              \n",
       "North Down-Stream          0.853904\n",
       "North Up-Stream            0.726061\n",
       "South Down-Stream          0.784058\n",
       "South Up-Stream            0.687587"
      ]
     },
     "execution_count": 92,
     "metadata": {},
     "output_type": "execute_result"
    }
   ],
   "source": [
    "def gini(x):\n",
    "    x = x.dropna().value_counts()\n",
    "    species = x.index\n",
    "    n = len(species)\n",
    "    numer = 0\n",
    "    for s in species:\n",
    "        numer += np.sum(np.abs(x - x[s]))\n",
    "    gini = numer / (2 * n * x.sum())\n",
    "    return gini\n",
    "\n",
    "gini_all = pd.DataFrame(\n",
    "    catch.groupby(by='_Site')['_Species'].apply(\n",
    "    lambda x: gini(x)\n",
    "    ))\n",
    "gini_all.columns = ['Gini Coefficient']\n",
    "gini_all"
   ]
  },
  {
   "cell_type": "code",
   "execution_count": 93,
   "metadata": {},
   "outputs": [
    {
     "data": {
      "text/html": [
       "<div>\n",
       "<style scoped>\n",
       "    .dataframe tbody tr th:only-of-type {\n",
       "        vertical-align: middle;\n",
       "    }\n",
       "\n",
       "    .dataframe tbody tr th {\n",
       "        vertical-align: top;\n",
       "    }\n",
       "\n",
       "    .dataframe thead th {\n",
       "        text-align: right;\n",
       "    }\n",
       "</style>\n",
       "<table border=\"1\" class=\"dataframe\">\n",
       "  <thead>\n",
       "    <tr style=\"text-align: right;\">\n",
       "      <th></th>\n",
       "      <th>Gini Coefficient</th>\n",
       "    </tr>\n",
       "    <tr>\n",
       "      <th>_Site</th>\n",
       "      <th></th>\n",
       "    </tr>\n",
       "  </thead>\n",
       "  <tbody>\n",
       "    <tr>\n",
       "      <th>Down-Stream</th>\n",
       "      <td>0.837343</td>\n",
       "    </tr>\n",
       "    <tr>\n",
       "      <th>Up-Stream</th>\n",
       "      <td>0.754788</td>\n",
       "    </tr>\n",
       "  </tbody>\n",
       "</table>\n",
       "</div>"
      ],
      "text/plain": [
       "             Gini Coefficient\n",
       "_Site                        \n",
       "Down-Stream          0.837343\n",
       "Up-Stream            0.754788"
      ]
     },
     "execution_count": 93,
     "metadata": {},
     "output_type": "execute_result"
    }
   ],
   "source": [
    "gini_strata = pd.DataFrame(\n",
    "    catch2.groupby(by='_Site')['_Species'].apply(\n",
    "    lambda x: gini(x)\n",
    "    ))\n",
    "gini_strata.columns = ['Gini Coefficient']\n",
    "gini_strata"
   ]
  }
 ],
 "metadata": {
  "interpreter": {
   "hash": "b89b5cfaba6639976dc87ff2fec6d58faec662063367e2c229c520fe71072417"
  },
  "kernelspec": {
   "display_name": "Python 3.10.0 64-bit",
   "language": "python",
   "name": "python3"
  },
  "language_info": {
   "codemirror_mode": {
    "name": "ipython",
    "version": 3
   },
   "file_extension": ".py",
   "mimetype": "text/x-python",
   "name": "python",
   "nbconvert_exporter": "python",
   "pygments_lexer": "ipython3",
   "version": "3.10.0"
  },
  "orig_nbformat": 4
 },
 "nbformat": 4,
 "nbformat_minor": 2
}
